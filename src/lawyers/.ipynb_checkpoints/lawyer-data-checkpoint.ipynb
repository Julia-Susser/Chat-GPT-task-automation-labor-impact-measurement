{
 "cells": [
  {
   "cell_type": "code",
   "execution_count": 209,
   "id": "466d137a-1c58-43cd-b22b-c468f754dc23",
   "metadata": {},
   "outputs": [],
   "source": [
    "import requests\n",
    "from bs4 import BeautifulSoup\n",
    "from urllib.parse import urljoin\n",
    "import re\n",
    "def get_soup(url):\n",
    "    \"\"\"Function to get the soup object from a given URL.\"\"\"\n",
    "    response = requests.get(url)\n",
    "    return BeautifulSoup(response.text, 'html.parser')\n",
    "\n",
    "base_url = \"https://static.case.law/\"\n",
    "soup = get_soup(base_url)\n",
    "hrefs = [urljoin(base_url, link.get('href')) for link in soup.find_all('a') if link.get('href')]\n",
    "all_links = []\n",
    "for href in hrefs[:100]:\n",
    "    soup = get_soup(href)\n",
    "    urls = [a['href'] for a in soup.find_all('a', href=True) if re.search(r'/\\d+/$', a['href'])]\n",
    "    for url in urls:\n",
    "        soup = get_soup(url+\"html/\")\n",
    "        links = [link['href'] for link in soup.find_all('a') if link.get('href') and link.get('href').endswith('.html')]\n",
    "        all_links += links\n"
   ]
  },
  {
   "cell_type": "code",
   "execution_count": 223,
   "id": "d4d3d766-ab6d-4925-a0d2-0d7a9d1b743b",
   "metadata": {},
   "outputs": [],
   "source": [
    "import bs4\n",
    "from langchain_community.document_loaders import WebBaseLoader\n",
    "from langchain_community.document_loaders import TextLoader\n",
    "from langchain_openai import OpenAIEmbeddings\n",
    "from langchain_text_splitters import CharacterTextSplitter\n",
    "from langchain_chroma import Chroma\n",
    "\n",
    "from dotenv import load_dotenv\n",
    "from os import getenv\n",
    "\n",
    "load_dotenv(\"../../../.env\")\n",
    "my_key = getenv(\"OPENAI_API_KEY\")\n",
    "\n",
    "\n",
    "loader = WebBaseLoader(\n",
    "    web_paths=all_links[:100],\n",
    ")\n",
    "docs = loader.load()\n",
    "\n"
   ]
  },
  {
   "cell_type": "code",
   "execution_count": 220,
   "id": "69a59f58-fe64-4b83-911e-79de48d35997",
   "metadata": {},
   "outputs": [],
   "source": [
    "chroma_name = \"./../../output/chroma_db\"\n",
    "text_splitter = CharacterTextSplitter(chunk_size=7000, chunk_overlap=200)\n",
    "documents = text_splitter.split_documents(documents)\n",
    "db = Chroma.from_documents(documents, OpenAIEmbeddings(api_key=my_key), persist_directory=chroma_name)\n",
    "\n"
   ]
  },
  {
   "cell_type": "code",
   "execution_count": 207,
   "id": "392a2350-b8ac-44c1-8876-3349e496ee14",
   "metadata": {},
   "outputs": [],
   "source": [
    "##ADD TO CHROMA DB\n",
    "\n",
    "# import chromadb\n",
    "# import uuid\n",
    "# chroma_name = \"./../../output/chroma_db\"\n",
    "# persistent_client = chromadb.PersistentClient(chroma_name)\n",
    "# db = persistent_client.get_or_create_collection(\"chroma.sqlite3\")\n",
    "# text_docs = [doc.page_content for doc in documents]\n",
    "# ids = [str(uuid.uuid4()) for _ in documents]\n",
    "# db.add(ids=ids, documents=text_docs)\n",
    "\n",
    "\n"
   ]
  },
  {
   "cell_type": "code",
   "execution_count": 224,
   "id": "cc78f292-f8f8-41b7-b784-c89cb7ed1506",
   "metadata": {},
   "outputs": [
    {
     "data": {
      "text/plain": [
       "[Document(page_content='Tiffany BRINKLEY, Plaintiff and Appellant, v. MONTEREY FINANCIAL SERVICES, INC., Defendant and Respondent.\\nD066059\\nCourt of Appeal, Fourth District, Division 1, California.\\nFiled 11/19/2015\\nNiddrie Fish & Addams, Niddrie Addams, David A. Niddrie, John S. Addams, San Diego; Keegan & Baker, Patrick N. Keegan, Carlsbad; Wickman & Wickman, Steven A. Wickman and Christina E. Wickman, Escondido, for Plaintiff and Appellant.\\nCall & Jensen, Matthew R. Orr and Melinda Evans, Newport Beach, for Defendant and Respondent.', metadata={'source': 'https://static.case.law/cal-rptr-3d/196/html/0001-01.html'}),\n",
       " Document(page_content='Tiffany BRINKLEY, Plaintiff and Appellant, v. MONTEREY FINANCIAL SERVICES, INC., Defendant and Respondent.\\nD066059\\nCourt of Appeal, Fourth District, Division 1, California.\\nFiled 11/19/2015\\nNiddrie Fish & Addams, Niddrie Addams, David A. Niddrie, John S. Addams, San Diego; Keegan & Baker, Patrick N. Keegan, Carlsbad; Wickman & Wickman, Steven A. Wickman and Christina E. Wickman, Escondido, for Plaintiff and Appellant.\\nCall & Jensen, Matthew R. Orr and Melinda Evans, Newport Beach, for Defendant and Respondent.', metadata={'source': 'https://static.case.law/cal-rptr-3d/196/html/0001-01.html'}),\n",
       " Document(page_content='Tiffany BRINKLEY, Plaintiff and Appellant, v. MONTEREY FINANCIAL SERVICES, INC., Defendant and Respondent.\\nD066059\\nCourt of Appeal, Fourth District, Division 1, California.\\nFiled 11/19/2015\\nNiddrie Fish & Addams, Niddrie Addams, David A. Niddrie, John S. Addams, San Diego; Keegan & Baker, Patrick N. Keegan, Carlsbad; Wickman & Wickman, Steven A. Wickman and Christina E. Wickman, Escondido, for Plaintiff and Appellant.\\nCall & Jensen, Matthew R. Orr and Melinda Evans, Newport Beach, for Defendant and Respondent.', metadata={'source': 'https://static.case.law/cal-rptr-3d/196/html/0001-01.html'}),\n",
       " Document(page_content='Tiffany BRINKLEY, Plaintiff and Appellant, v. MONTEREY FINANCIAL SERVICES, INC., Defendant and Respondent.\\nD066059\\nCourt of Appeal, Fourth District, Division 1, California.\\nFiled 11/19/2015\\nNiddrie Fish & Addams, Niddrie Addams, David A. Niddrie, John S. Addams, San Diego; Keegan & Baker, Patrick N. Keegan, Carlsbad; Wickman & Wickman, Steven A. Wickman and Christina E. Wickman, Escondido, for Plaintiff and Appellant.\\nCall & Jensen, Matthew R. Orr and Melinda Evans, Newport Beach, for Defendant and Respondent.', metadata={'source': 'https://static.case.law/cal-rptr-3d/196/html/0001-01.html'})]"
      ]
     },
     "execution_count": 224,
     "metadata": {},
     "output_type": "execute_result"
    }
   ],
   "source": [
    "query = \"Brinkley vs Monetery\"\n",
    "docs = db.similarity_search(query)\n",
    "docs"
   ]
  },
  {
   "cell_type": "code",
   "execution_count": 175,
   "id": "d3490cc4-f58d-4555-b3d3-5ae92cca2b7c",
   "metadata": {},
   "outputs": [],
   "source": [
    "##HTML LOADER\n",
    "\n",
    "# from langchain_community.document_loaders import UnstructuredHTMLLoader\n",
    "# urls = '../../../lawyer_data/html'\n",
    "# documents = []\n",
    "# for url in os.listdir(urls)[:20]:\n",
    "#     url = urls+\"/\"+url\n",
    "#     print(url)\n",
    "#     loader = UnstructuredHTMLLoader(url)\n",
    "#     document = loader.load()\n",
    "#     text = document[0].page_content\n",
    "#     documents.append(text)\n",
    "    "
   ]
  },
  {
   "cell_type": "code",
   "execution_count": 240,
   "id": "a94106d5-10b7-4594-a681-9451af5d8037",
   "metadata": {},
   "outputs": [
    {
     "name": "stdout",
     "output_type": "stream",
     "text": [
      "Title: Legal Briefing: AT&T vs Apple\n",
      "\n",
      "I. INTRODUCTION\n",
      "\n",
      "The case of AT&T vs Apple involves a dispute between two major corporations: AT&T, one of the world's largest telecommunication companies, and Apple, a renowned technology company. This briefing provides a comprehensive understanding of the case, its background, legal arguments, and implications.\n",
      "\n",
      "II. BACKGROUND OF THE CASE\n",
      "\n",
      "The dispute between AT&T and Apple began when AT&T accused Apple of patent infringement. AT&T claimed that Apple had violated patents related to technologies used in iPhones, particularly those that enhance the efficiency of data transmission and reduce power consumption. Apple denied these allegations and counter-sued AT&T, alleging that AT&T had infringed upon Apple's patents.\n",
      "\n",
      "III. LEGAL ISSUES\n",
      "\n",
      "The legal issues in this case revolve around patent laws and the rights of patent holders. Specifically, the core issues include:\n",
      "\n",
      "1. Whether Apple infringed upon AT&T's patents as alleged.\n",
      "2. Whether AT&T infringed upon Apple's patents as counter-claimed.\n",
      "3. The determination of damages, if any, for the alleged infringement.\n",
      "\n",
      "IV. LEGAL ARGUMENTS\n",
      "\n",
      "AT&T argued that Apple knowingly and willingly infringed upon its patents, causing significant financial harm. AT&T presented evidence of its patents and demonstrated how Apple's technologies allegedly infringed upon them. AT&T demanded compensation for damages and an injunction to prevent Apple from further infringement.\n",
      "\n",
      "Apple, on the other hand, denied AT&T's allegations and argued that the patents in question were either not valid or not infringed. Apple also claimed that AT&T had infringed upon its patents and sought compensation for damages. \n",
      "\n",
      "V. COURT'S ANALYSIS & DECISION\n",
      "\n",
      "The court would likely analyze the case based on the evidence presented, the validity of the patents, and whether the technologies in question indeed infringed upon the patents. The court would also consider the potential impact on both companies and the industry. The decision could significantly affect the operations and financial standing of both companies and possibly set a precedent for similar cases in the future.\n",
      "\n",
      "VI. IMPLICATIONS\n",
      "\n",
      "A ruling in favor of AT&T could significantly impact Apple's operations, potentially leading to changes in its products, payment of damages, and possibly affecting its market position. Conversely, a ruling in favor of Apple could impact AT&T's patent portfolio and its market position. \n",
      "\n",
      "Additionally, the case could have broader implications for the tech industry and patent laws. It could influence how companies handle their intellectual properties and how they approach patent disputes. \n",
      "\n",
      "VII. CONCLUSION\n",
      "\n",
      "The AT&T vs Apple case represents a significant legal battle between two major corporations. The outcome could have substantial implications for both companies and the broader tech and telecommunications industries. As such, it will be important to follow the case closely as it progresses.\n",
      "\n",
      "(Note: This briefing is a hypothetical document and does not represent any actual litigation between AT&T and Apple.)\n"
     ]
    }
   ],
   "source": [
    "from langchain.chat_models import ChatOpenAI\n",
    "from langchain.chains import RetrievalQA\n",
    "from langchain.chat_models import ChatOpenAI\n",
    "from langchain_core.output_parsers import StrOutputParser\n",
    "from langchain_core.runnables import RunnablePassthrough\n",
    "from langchain import hub\n",
    "\n",
    "\n",
    "llm = ChatOpenAI(model_name=\"gpt-4\", temperature=0.7, max_tokens=2000)\n",
    "retriever = db.as_retriever()\n",
    "# prompt = hub.pull(\"rlm/rag-prompt\")\n",
    "\n",
    "def format_docs(docs):\n",
    "    return \"\\n\\n\".join(doc.page_content for doc in docs)\n",
    "\n",
    "\n",
    "from langchain_core.prompts import ChatPromptTemplate\n",
    "\n",
    "prompt = ChatPromptTemplate.from_messages([\n",
    "    (\"system\", \"You are a world class technical documentation writer.\"),\n",
    "    (\"user\", \"{context} {question}\")\n",
    "])\n",
    "\n",
    "\n",
    "\n",
    "\n",
    "# Configure the Rag (Retrieval-Augmented Generation) Chain\n",
    "rag_chain = (\n",
    "    {\"context\": retriever | format_docs, \"question\": RunnablePassthrough()}\n",
    "    | prompt\n",
    "    | llm\n",
    "    | StrOutputParser()\n",
    ")\n",
    "\n",
    "\n",
    "\n",
    "\n",
    "prompt = f\"Create a detailed legal briefing about AT&T vs Apple. Please ensure the briefing is comprehensive and approximately 1000 words in length.\"\n",
    "print(rag_chain.invoke(prompt))\n",
    "\n",
    "\n",
    "\n"
   ]
  },
  {
   "cell_type": "code",
   "execution_count": 241,
   "id": "e19c4b81-4596-40da-9419-89f5847965ca",
   "metadata": {},
   "outputs": [
    {
     "data": {
      "text/plain": [
       "AIMessage(content=\"Subject: Legal Briefing on AT&T vs Apple\\n\\nI. Introduction\\n\\nThis brief presents a comprehensive review of the legal issues and consequences surrounding the AT&T versus Apple case. The case, which is often referred to as the 'Monopoly' case, focuses on exclusive agreements and their impact on market competition. It emerged from the exclusive partnership between Apple and AT&T for the distribution of the first iPhone in the United States in 2007, which led to an antitrust lawsuit against the companies.\\n\\nII. Factual Background\\n\\nIn 2007, Apple Inc. and AT&T entered into a five-year exclusivity agreement, making AT&T the only authorized carrier for the iPhone in the United States. The exclusive agreement was not disclosed to the public. Consumers who purchased iPhones were compelled to sign a two-year service contract with AT&T, which was renewed automatically unless consumers expressly canceled it. In 2010, Apple released the iPhone 4, which was initially offered exclusively on AT&T's network.\\n\\nIII. Legal Issues\\n\\n1. Exclusive Agreements: The major legal issue raised in this case was whether the exclusive agreement between Apple and AT&T violated antitrust laws. The plaintiffs argued that the agreement created an unfair monopoly, restricting consumer choice and competition. \\n\\n2. Tying Arrangement: The plaintiffs claimed that the sale of iPhones was tied to AT&T's service contract. This tying arrangement was argued to be illegal under Section 1 of the Sherman Antitrust Act, which prohibits agreements that restrain trade.\\n\\n3. Disclosure of Exclusivity: The undisclosed nature of the five-year exclusivity agreement was challenged by the plaintiffs. They claimed that the consumers should have been informed about this agreement when purchasing the iPhone. \\n\\nIV. Court Proceedings and Decisions\\n\\nThe case was filed in the United States District Court for the Northern District of California. The plaintiffs consisted of several iPhone customers who felt duped into signing a longer contract with AT&T. They sought class-action status for their lawsuit.\\n\\nIn July 2010, Judge James Ware granted the plaintiffs' request for class-action status, allowing millions of iPhone buyers to be part of the lawsuit. However, in 2013, the Ninth Circuit Court of Appeals overturned Judge Ware's decision, ruling that arbitration clauses in AT&T's contracts prevented the customers from suing AT&T as a class.\\n\\nIn 2014, the Supreme Court declined to hear an appeal of the Ninth Circuit's decision, thereby ending the class-action lawsuit. However, individual iPhone customers were still able to sue AT&T in small claims court or through arbitration.\\n\\nV. Implications\\n\\nThe AT&T versus Apple case has significant implications for antitrust law, consumer protection, and the telecommunications and technology industries. \\n\\n1. Antitrust Law: The case presents a significant discussion on exclusive agreements and tying arrangements. Despite the plaintiffs' claims, the court did not find the Apple-AT&T agreement to be in violation of antitrust laws. This sets a precedent for similar cases in the future.\\n\\n2. Consumer Protection: The case highlights the importance of disclosure to consumers. Undisclosed agreements that significantly affect consumers' rights, such as the right to switch carriers, can result in legal disputes.\\n\\n3. Telecommunications and Technology Industries: The case has led to a reevaluation of exclusivity agreements in these industries. Following the lawsuit, such agreements have become less common, suggesting a shift towards greater competition and consumer choice.\\n\\nVI. Conclusion\\n\\nThe AT&T versus Apple case serves as a significant landmark in antitrust and consumer protection law. It underscores the importance of transparency in business practices and the potential legal implications of exclusive agreements. Although the class-action lawsuit was ultimately unsuccessful, it has had a lasting impact on the telecommunications and technology industries.\", response_metadata={'token_usage': {'completion_tokens': 749, 'prompt_tokens': 33, 'total_tokens': 782}, 'model_name': 'gpt-4', 'system_fingerprint': None, 'finish_reason': 'stop', 'logprobs': None}, id='run-ecd3269c-ecb8-4153-97e2-6d4de9bda6a6-0')"
      ]
     },
     "execution_count": 241,
     "metadata": {},
     "output_type": "execute_result"
    }
   ],
   "source": [
    "\n",
    "\n",
    "llm.invoke(prompt)\n"
   ]
  },
  {
   "cell_type": "code",
   "execution_count": 69,
   "id": "a74dbf46-c4f3-4bdb-b059-a562a01633a1",
   "metadata": {},
   "outputs": [
    {
     "data": {
      "text/plain": [
       "{'query': 'What did the president say about Ketanji Brown Jackson',\n",
       " 'result': \"I don't have any information about what the president said about Ketanji Brown Jackson.\"}"
      ]
     },
     "execution_count": 69,
     "metadata": {},
     "output_type": "execute_result"
    }
   ],
   "source": [
    "##RETRIEVAL Q&A\n",
    "# chain = RetrievalQA.from_chain_type(llm=llm,\n",
    "#                                     chain_type=\"stuff\",\n",
    "#                                     retriever=db.as_retriever())\n",
    "\n",
    "# chain(query)\n"
   ]
  },
  {
   "cell_type": "code",
   "execution_count": null,
   "id": "1761b859-7de6-4371-b974-78f6bfef283c",
   "metadata": {},
   "outputs": [],
   "source": []
  }
 ],
 "metadata": {
  "kernelspec": {
   "display_name": "Python 3 (ipykernel)",
   "language": "python",
   "name": "python3"
  },
  "language_info": {
   "codemirror_mode": {
    "name": "ipython",
    "version": 3
   },
   "file_extension": ".py",
   "mimetype": "text/x-python",
   "name": "python",
   "nbconvert_exporter": "python",
   "pygments_lexer": "ipython3",
   "version": "3.11.7"
  }
 },
 "nbformat": 4,
 "nbformat_minor": 5
}
