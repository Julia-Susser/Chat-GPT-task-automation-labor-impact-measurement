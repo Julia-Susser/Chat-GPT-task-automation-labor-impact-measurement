{
 "cells": [
  {
   "cell_type": "code",
   "execution_count": 7,
   "id": "cb17051e-d902-4b8c-b5ea-6226f2fbe371",
   "metadata": {},
   "outputs": [
    {
     "name": "stdout",
     "output_type": "stream",
     "text": [
      "Text extracted from link 1 saved to '1_d937363dex41.htm'\n",
      "Text extracted from link 2 saved to '2_d937363dex41.htm'\n",
      "Text extracted from link 3 saved to '3_d937363dex41.htm'\n"
     ]
    }
   ],
   "source": [
    "import requests\n",
    "from bs4 import BeautifulSoup\n",
    "\n",
    "def get_html_text(url, headers):\n",
    "    response = requests.get(url, headers=headers)\n",
    "    if response.status_code == 200:\n",
    "        soup = BeautifulSoup(response.content, 'html.parser')\n",
    "        return soup.get_text()\n",
    "    else:\n",
    "        return None\n",
    "\n",
    "def save_text_to_file(text, filename):\n",
    "    with open(filename, 'w', encoding='utf-8') as file:\n",
    "        file.write(text)\n",
    "\n",
    "def process_links(links, headers):\n",
    "    for idx, link in enumerate(links, start=1):\n",
    "        html_text = get_html_text(link, headers)\n",
    "        if html_text:\n",
    "            filename = f\"{idx}_{link.split('/')[-1]}\"  # Generate a unique filename\n",
    "            save_text_to_file(html_text, filename)\n",
    "            print(f\"Text extracted from link {idx} saved to '{filename}'\")\n",
    "        else:\n",
    "            print(f\"Failed to extract text from link {idx}\")\n",
    "\n",
    "# List of links to process\n",
    "links = [\n",
    "    'https://www.sec.gov/Archives/edgar/data/320193/000119312520225672/d937363dex41.htm',\n",
    "    'https://www.sec.gov/Archives/edgar/data/320193/000119312520225672/d937363dex41.htm',\n",
    "    'https://www.sec.gov/Archives/edgar/data/320193/000119312520225672/d937363dex41.htm'\n",
    "    # Add more links as needed\n",
    "]\n",
    "\n",
    "# Custom user agent\n",
    "headers = {'User-Agent': 'Julia Susse'}\n",
    "\n",
    "# Process the list of links\n",
    "process_links(links, headers)\n"
   ]
  },
  {
   "cell_type": "code",
   "execution_count": 22,
   "id": "064c3dd4-0bce-4589-8bc2-cdd622951b9e",
   "metadata": {},
   "outputs": [],
   "source": [
    "import bs4\n",
    "from langchain_community.document_loaders import WebBaseLoader\n",
    "from langchain_community.document_loaders import TextLoader\n",
    "from langchain_openai import OpenAIEmbeddings\n",
    "from langchain_text_splitters import CharacterTextSplitter\n",
    "from langchain_chroma import Chroma\n",
    "from langchain_community.document_loaders import BSHTMLLoader\n",
    "import chromadb\n",
    "from dotenv import load_dotenv\n",
    "from os import getenv\n",
    "import os\n",
    "\n",
    "load_dotenv(\"../../../.env\")\n",
    "my_key = getenv(\"OPENAI_API_KEY\")\n",
    "\n",
    "\n",
    "\n",
    "\n"
   ]
  },
  {
   "cell_type": "code",
   "execution_count": 23,
   "id": "02388cc9-190a-45b6-a21b-4fbd7cede75a",
   "metadata": {},
   "outputs": [
    {
     "name": "stdout",
     "output_type": "stream",
     "text": [
      "3\n"
     ]
    }
   ],
   "source": [
    "html_files = os.listdir(\"data\")\n",
    "html_files = [\"data/\"+ file for file in html_files]\n",
    "print(len(html_files))"
   ]
  },
  {
   "cell_type": "code",
   "execution_count": 24,
   "id": "a0f8af8e-110d-4287-8409-a5a6294c65bd",
   "metadata": {},
   "outputs": [],
   "source": [
    "documents = []\n",
    "for file in html_files:\n",
    "    loader = BSHTMLLoader(html_files[0])\n",
    "    data = loader.load()\n",
    "    documents += data"
   ]
  },
  {
   "cell_type": "code",
   "execution_count": 25,
   "id": "6bfde588-aeb8-4cc6-bcd6-952a4470d17c",
   "metadata": {},
   "outputs": [
    {
     "name": "stdout",
     "output_type": "stream",
     "text": [
      "0\n"
     ]
    }
   ],
   "source": [
    "chroma_name = \"./../../output/chroma_db\"\n",
    "persistent_client = chromadb.PersistentClient(chroma_name)\n",
    "persistent_client.delete_collection(\"chroma.sqlite3\")\n",
    "db = persistent_client.get_or_create_collection(\"chroma.sqlite3\")\n",
    "print(len(db.get()[\"ids\"]))"
   ]
  },
  {
   "cell_type": "code",
   "execution_count": 30,
   "id": "50f6abba-dafd-40ae-bedb-a3a713479bb8",
   "metadata": {},
   "outputs": [
    {
     "name": "stderr",
     "output_type": "stream",
     "text": [
      "Created a chunk of size 4006, which is longer than the specified 4000\n",
      "Created a chunk of size 4006, which is longer than the specified 4000\n",
      "Created a chunk of size 4006, which is longer than the specified 4000\n",
      "Created a chunk of size 4006, which is longer than the specified 4000\n",
      "Created a chunk of size 4006, which is longer than the specified 4000\n",
      "Created a chunk of size 4006, which is longer than the specified 4000\n"
     ]
    },
    {
     "name": "stdout",
     "output_type": "stream",
     "text": [
      "Processing batch 0...\n",
      "Batch 0 processed.\n"
     ]
    }
   ],
   "source": [
    "text_splitter = CharacterTextSplitter(chunk_size=4000, chunk_overlap=2000)\n",
    "\n",
    "\n",
    "# Split documents into batches\n",
    "batch_size = 100  # Set the batch size\n",
    "batches = [documents[i:i+batch_size] for i in range(0, len(documents), batch_size)]\n",
    "\n",
    "# Process batches synchronously\n",
    "for batch_num, batch in enumerate(batches):\n",
    "    print(f\"Processing batch {batch_num}...\")\n",
    "    text_split_batch = text_splitter.split_documents(batch)\n",
    "    # Initialize Chroma database and add documents to it\n",
    "    db = Chroma.from_documents(text_split_batch, OpenAIEmbeddings(api_key=my_key), persist_directory=chroma_name)\n",
    "    print(f\"Batch {batch_num} processed.\")\n",
    "\n",
    "# print(\"All batches processed.\")\n",
    "\n"
   ]
  },
  {
   "cell_type": "code",
   "execution_count": 31,
   "id": "05197bcd-69d8-4e4c-843a-11cd5221d9f3",
   "metadata": {},
   "outputs": [
    {
     "data": {
      "text/plain": [
       "[Document(page_content='APPLE INC. \\n2.400% Note due 2050  \\xa0\\n\\n\\n No.\\n\\xa0\\xa0\\nCUSIP No.: 037833 DZ0\\n\\n\\n\\xa0\\xa0\\nISIN No.: US037833DZ01\\n\\n\\xa0\\xa0\\n$[●]\\n APPLE INC., a California corporation (the “Issuer”), for value received promises to pay\\nto CEDE\\xa0& CO. or registered assigns the principal sum listed on the Schedule of Exchanges of Notes on August\\xa020, 2050. \\nInterest Payment Dates: February\\xa020 and August\\xa020, beginning on February\\xa020, 2021 and on the maturity date (each, an\\n“Interest Payment Date”).  Interest Record Dates: February\\xa06 and August\\xa06 (each, an “Interest\\nRecord Date”).  Reference is made to the further provisions of this Note contained herein, which will for all purposes have\\nthe same effect as if set forth at this place. \\n\\n\\nIN WITNESS WHEREOF, the Issuer has caused this Note to be signed manually or by\\nfacsimile by its duly authorized officer.  \\xa0\\n\\n\\n APPLE INC.\\n\\n\\n By:\\n\\xa0\\n \\xa0\\n\\n\\n\\xa0\\n Name: Gary Wipfler\\n\\n\\n\\xa0\\n Title: Vice President and Corporate Treasurer\\n\\nThis is one of the Securities of the series designated therein and referred to in the\\nwithin-mentioned Indenture.  Dated: August\\xa020, 2020  \\xa0\\n\\n\\n The Bank of New York Mellon Trust\\nCompany, N.A., as Trustee\\n\\n\\n By:\\n\\xa0\\n \\xa0\\n\\n\\n\\xa0\\n Authorized Signatory\\n\\n(REVERSE OF NOTE) \\nAPPLE INC.  2.400% Note due 2050 \\n\\xa0\\n\\n\\n\\xa0\\n1.\\n Interest \\nApple Inc. (the “Issuer”) promises to pay interest on the principal amount of this Note at the rate per annum described\\nabove. Cash interest on the Notes will accrue from August\\xa020, 2020 or the most recent Interest Payment Date to which payment has been paid. Interest on this Note will be paid to, but excluding, the relevant Interest Payment Date. The Issuer\\nwill pay interest semi-annually in arrears on each Interest Payment Date, commencing February\\xa020, 2021, to Holders of record at the close of business on the immediately preceding Interest Record Date; provided, that if an Interest Payment Date\\nfor this Note falls on a day that is not a Business Day, the Interest Payment Date shall be postponed to the next succeeding Business Day. Interest on the Notes will be computed on the basis of a 360-day year\\nconsisting of twelve 30-day months in a manner consistent with Rule 11620(b) of the FINRA Uniform Practice Code. \\nThe Issuer shall pay interest on overdue principal from time to time on demand at the rate borne by the Notes and on overdue\\ninstallments of interest (without regard to any applicable grace periods) to the extent lawful.  \\xa0\\n\\n\\n\\xa0\\n2.\\n Paying Agent and Security Registrar. \\nInitially, The Bank of New York Mellon Trust Company, N.A. (the “Trustee”) will act as Paying Agent and Security\\nRegistrar. The Issuer may change any Paying Agent and Security Registrar without notice to the Holders.  \\xa0\\n\\n\\n\\xa0\\n3.\\n Indenture; Defined Terms. \\nThis Note is one of the 2.400% Notes due 2050 (the “Notes”) issued under an indenture, dated as of November\\xa05, 2018\\n(the “Base Indenture”), by and between the Issuer and the Trustee, as supplemented by an Officer’s Certificate, dated August\\xa020, 2020, issued pursuant to Section\\xa0301 of the Indenture (together with the Base Indenture,\\nthe “Indenture”). This Note is a “Security” and the Notes are “Securities” under the Indenture. \\nFor purposes of this Note, unless otherwise defined herein, capitalized terms herein are used as defined in the Indenture. The terms of\\nthe Notes include those stated in the Indenture and those made part of the Indenture by reference to the Trust Indenture Act as in effect on the date on which the Indenture was qualified under the Trust Indenture Act. Notwithstanding anything to the\\ncontrary herein, the Notes are subject to all such terms, and Holders of Notes are referred to the Indenture and the Trust Indenture Act for a statement of them.', metadata={'source': 'data/1_d937363dex41.htm', 'title': ''}),\n",
       " Document(page_content='APPLE INC. \\n2.400% Note due 2050  \\xa0\\n\\n\\n No.\\n\\xa0\\xa0\\nCUSIP No.: 037833 DZ0\\n\\n\\n\\xa0\\xa0\\nISIN No.: US037833DZ01\\n\\n\\xa0\\xa0\\n$[●]\\n APPLE INC., a California corporation (the “Issuer”), for value received promises to pay\\nto CEDE\\xa0& CO. or registered assigns the principal sum listed on the Schedule of Exchanges of Notes on August\\xa020, 2050. \\nInterest Payment Dates: February\\xa020 and August\\xa020, beginning on February\\xa020, 2021 and on the maturity date (each, an\\n“Interest Payment Date”).  Interest Record Dates: February\\xa06 and August\\xa06 (each, an “Interest\\nRecord Date”).  Reference is made to the further provisions of this Note contained herein, which will for all purposes have\\nthe same effect as if set forth at this place. \\n\\n\\nIN WITNESS WHEREOF, the Issuer has caused this Note to be signed manually or by\\nfacsimile by its duly authorized officer.  \\xa0\\n\\n\\n APPLE INC.\\n\\n\\n By:\\n\\xa0\\n \\xa0\\n\\n\\n\\xa0\\n Name: Gary Wipfler\\n\\n\\n\\xa0\\n Title: Vice President and Corporate Treasurer\\n\\nThis is one of the Securities of the series designated therein and referred to in the\\nwithin-mentioned Indenture.  Dated: August\\xa020, 2020  \\xa0\\n\\n\\n The Bank of New York Mellon Trust\\nCompany, N.A., as Trustee\\n\\n\\n By:\\n\\xa0\\n \\xa0\\n\\n\\n\\xa0\\n Authorized Signatory\\n\\n(REVERSE OF NOTE) \\nAPPLE INC.  2.400% Note due 2050 \\n\\xa0\\n\\n\\n\\xa0\\n1.\\n Interest \\nApple Inc. (the “Issuer”) promises to pay interest on the principal amount of this Note at the rate per annum described\\nabove. Cash interest on the Notes will accrue from August\\xa020, 2020 or the most recent Interest Payment Date to which payment has been paid. Interest on this Note will be paid to, but excluding, the relevant Interest Payment Date. The Issuer\\nwill pay interest semi-annually in arrears on each Interest Payment Date, commencing February\\xa020, 2021, to Holders of record at the close of business on the immediately preceding Interest Record Date; provided, that if an Interest Payment Date\\nfor this Note falls on a day that is not a Business Day, the Interest Payment Date shall be postponed to the next succeeding Business Day. Interest on the Notes will be computed on the basis of a 360-day year\\nconsisting of twelve 30-day months in a manner consistent with Rule 11620(b) of the FINRA Uniform Practice Code. \\nThe Issuer shall pay interest on overdue principal from time to time on demand at the rate borne by the Notes and on overdue\\ninstallments of interest (without regard to any applicable grace periods) to the extent lawful.  \\xa0\\n\\n\\n\\xa0\\n2.\\n Paying Agent and Security Registrar. \\nInitially, The Bank of New York Mellon Trust Company, N.A. (the “Trustee”) will act as Paying Agent and Security\\nRegistrar. The Issuer may change any Paying Agent and Security Registrar without notice to the Holders.  \\xa0\\n\\n\\n\\xa0\\n3.\\n Indenture; Defined Terms. \\nThis Note is one of the 2.400% Notes due 2050 (the “Notes”) issued under an indenture, dated as of November\\xa05, 2018\\n(the “Base Indenture”), by and between the Issuer and the Trustee, as supplemented by an Officer’s Certificate, dated August\\xa020, 2020, issued pursuant to Section\\xa0301 of the Indenture (together with the Base Indenture,\\nthe “Indenture”). This Note is a “Security” and the Notes are “Securities” under the Indenture. \\nFor purposes of this Note, unless otherwise defined herein, capitalized terms herein are used as defined in the Indenture. The terms of\\nthe Notes include those stated in the Indenture and those made part of the Indenture by reference to the Trust Indenture Act as in effect on the date on which the Indenture was qualified under the Trust Indenture Act. Notwithstanding anything to the\\ncontrary herein, the Notes are subject to all such terms, and Holders of Notes are referred to the Indenture and the Trust Indenture Act for a statement of them.', metadata={'source': 'data/1_d937363dex41.htm', 'title': ''}),\n",
       " Document(page_content='APPLE INC. \\n2.400% Note due 2050  \\xa0\\n\\n\\n No.\\n\\xa0\\xa0\\nCUSIP No.: 037833 DZ0\\n\\n\\n\\xa0\\xa0\\nISIN No.: US037833DZ01\\n\\n\\xa0\\xa0\\n$[●]\\n APPLE INC., a California corporation (the “Issuer”), for value received promises to pay\\nto CEDE\\xa0& CO. or registered assigns the principal sum listed on the Schedule of Exchanges of Notes on August\\xa020, 2050. \\nInterest Payment Dates: February\\xa020 and August\\xa020, beginning on February\\xa020, 2021 and on the maturity date (each, an\\n“Interest Payment Date”).  Interest Record Dates: February\\xa06 and August\\xa06 (each, an “Interest\\nRecord Date”).  Reference is made to the further provisions of this Note contained herein, which will for all purposes have\\nthe same effect as if set forth at this place. \\n\\n\\nIN WITNESS WHEREOF, the Issuer has caused this Note to be signed manually or by\\nfacsimile by its duly authorized officer.  \\xa0\\n\\n\\n APPLE INC.\\n\\n\\n By:\\n\\xa0\\n \\xa0\\n\\n\\n\\xa0\\n Name: Gary Wipfler\\n\\n\\n\\xa0\\n Title: Vice President and Corporate Treasurer\\n\\nThis is one of the Securities of the series designated therein and referred to in the\\nwithin-mentioned Indenture.  Dated: August\\xa020, 2020  \\xa0\\n\\n\\n The Bank of New York Mellon Trust\\nCompany, N.A., as Trustee\\n\\n\\n By:\\n\\xa0\\n \\xa0\\n\\n\\n\\xa0\\n Authorized Signatory\\n\\n(REVERSE OF NOTE) \\nAPPLE INC.  2.400% Note due 2050 \\n\\xa0\\n\\n\\n\\xa0\\n1.\\n Interest \\nApple Inc. (the “Issuer”) promises to pay interest on the principal amount of this Note at the rate per annum described\\nabove. Cash interest on the Notes will accrue from August\\xa020, 2020 or the most recent Interest Payment Date to which payment has been paid. Interest on this Note will be paid to, but excluding, the relevant Interest Payment Date. The Issuer\\nwill pay interest semi-annually in arrears on each Interest Payment Date, commencing February\\xa020, 2021, to Holders of record at the close of business on the immediately preceding Interest Record Date; provided, that if an Interest Payment Date\\nfor this Note falls on a day that is not a Business Day, the Interest Payment Date shall be postponed to the next succeeding Business Day. Interest on the Notes will be computed on the basis of a 360-day year\\nconsisting of twelve 30-day months in a manner consistent with Rule 11620(b) of the FINRA Uniform Practice Code. \\nThe Issuer shall pay interest on overdue principal from time to time on demand at the rate borne by the Notes and on overdue\\ninstallments of interest (without regard to any applicable grace periods) to the extent lawful.  \\xa0\\n\\n\\n\\xa0\\n2.\\n Paying Agent and Security Registrar. \\nInitially, The Bank of New York Mellon Trust Company, N.A. (the “Trustee”) will act as Paying Agent and Security\\nRegistrar. The Issuer may change any Paying Agent and Security Registrar without notice to the Holders.  \\xa0\\n\\n\\n\\xa0\\n3.\\n Indenture; Defined Terms. \\nThis Note is one of the 2.400% Notes due 2050 (the “Notes”) issued under an indenture, dated as of November\\xa05, 2018\\n(the “Base Indenture”), by and between the Issuer and the Trustee, as supplemented by an Officer’s Certificate, dated August\\xa020, 2020, issued pursuant to Section\\xa0301 of the Indenture (together with the Base Indenture,\\nthe “Indenture”). This Note is a “Security” and the Notes are “Securities” under the Indenture. \\nFor purposes of this Note, unless otherwise defined herein, capitalized terms herein are used as defined in the Indenture. The terms of\\nthe Notes include those stated in the Indenture and those made part of the Indenture by reference to the Trust Indenture Act as in effect on the date on which the Indenture was qualified under the Trust Indenture Act. Notwithstanding anything to the\\ncontrary herein, the Notes are subject to all such terms, and Holders of Notes are referred to the Indenture and the Trust Indenture Act for a statement of them.', metadata={'source': 'data/1_d937363dex41.htm', 'title': ''}),\n",
       " Document(page_content='APPLE INC. \\n2.550% Note due 2060  \\xa0\\n\\n\\n No.\\n\\xa0\\xa0\\nCUSIP No.: 037833 EA4\\n\\n\\n\\xa0\\xa0\\nISIN No.: US037833EA41\\n\\n\\xa0\\xa0\\n$[●]\\n APPLE INC., a California corporation (the “Issuer”), for value received promises to pay\\nto CEDE\\xa0& CO. or registered assigns the principal sum listed on the Schedule of Exchanges of Notes on August\\xa020, 2060. \\nInterest Payment Dates: February\\xa020 and August\\xa020, beginning on February\\xa020, 2021 and on the maturity date (each, an\\n“Interest Payment Date”).  Interest Record Dates: February\\xa06 and August\\xa06 (each, an “Interest\\nRecord Date”).  Reference is made to the further provisions of this Note contained herein, which will for all purposes have\\nthe same effect as if set forth at this place. \\n\\n\\nIN WITNESS WHEREOF, the Issuer has caused this Note to be signed manually or by\\nfacsimile by its duly authorized officer.  \\xa0\\n\\n\\n APPLE INC.\\n\\n\\n By:\\xa0\\xa0\\n\\xa0\\n \\xa0\\n\\n\\n\\xa0\\n Name: \\xa0Gary Wipfler\\n\\n\\n\\xa0\\n Title: Vice President and Corporate Treasurer\\n\\nThis is one of the Securities of the series designated therein and referred to in the\\nwithin-mentioned Indenture.  Dated: August\\xa020, 2020  \\xa0\\n\\n\\n The Bank of New York Mellon Trust\\nCompany, N.A., as Trustee\\n\\n\\n By:\\xa0\\xa0\\n\\xa0\\n \\xa0\\n\\n\\n\\xa0\\n Authorized Signatory\\n\\n(REVERSE OF NOTE) \\nAPPLE INC.  2.550% Note due 2060 \\n\\xa0\\n\\n\\n\\xa0\\n1.\\n Interest \\nApple Inc. (the “Issuer”) promises to pay interest on the principal amount of this Note at the rate per annum described\\nabove. Cash interest on the Notes will accrue from August\\xa020, 2020 or the most recent Interest Payment Date to which payment has been paid. Interest on this Note will be paid to, but excluding, the relevant Interest Payment Date. The Issuer\\nwill pay interest semi-annually in arrears on each Interest Payment Date, commencing February\\xa020, 2021, to Holders of record at the close of business on the immediately preceding Interest Record Date; provided, that if an Interest Payment Date\\nfor this Note falls on a day that is not a Business Day, the Interest Payment Date shall be postponed to the next succeeding Business Day. Interest on the Notes will be computed on the basis of a 360-day year\\nconsisting of twelve 30-day months in a manner consistent with Rule 11620(b) of the FINRA Uniform Practice Code. \\nThe Issuer shall pay interest on overdue principal from time to time on demand at the rate borne by the Notes and on overdue\\ninstallments of interest (without regard to any applicable grace periods) to the extent lawful.  \\xa0\\n\\n\\n\\xa0\\n2.\\n Paying Agent and Security Registrar. \\nInitially, The Bank of New York Mellon Trust Company, N.A. (the “Trustee”) will act as Paying Agent and Security\\nRegistrar. The Issuer may change any Paying Agent and Security Registrar without notice to the Holders.  \\xa0\\n\\n\\n\\xa0\\n3.\\n Indenture; Defined Terms. \\nThis Note is one of the 2.550% Notes due 2060 (the “Notes”) issued under an indenture, dated as of November\\xa05, 2018\\n(the “Base Indenture”), by and between the Issuer and the Trustee, as supplemented by an Officer’s Certificate, dated August\\xa020, 2020, issued pursuant to Section\\xa0301 of the Indenture (together with the Base Indenture,\\nthe “Indenture”). This Note is a “Security” and the Notes are “Securities” under the Indenture. \\nFor purposes of this Note, unless otherwise defined herein, capitalized terms herein are used as defined in the Indenture. The terms of\\nthe Notes include those stated in the Indenture and those made part of the Indenture by reference to the Trust Indenture Act as in effect on the date on which the Indenture was qualified under the Trust Indenture Act. Notwithstanding anything to the\\ncontrary herein, the Notes are subject to all such terms, and Holders of Notes are referred to the Indenture and the Trust Indenture Act for a statement of them.', metadata={'source': 'data/1_d937363dex41.htm', 'title': ''})]"
      ]
     },
     "execution_count": 31,
     "metadata": {},
     "output_type": "execute_result"
    }
   ],
   "source": [
    "query = \"apple\"\n",
    "docs = db.similarity_search(query)\n",
    "docs"
   ]
  },
  {
   "cell_type": "code",
   "execution_count": 32,
   "id": "096b4904-4cfa-40f3-b90e-dd527f0f754d",
   "metadata": {},
   "outputs": [
    {
     "name": "stdout",
     "output_type": "stream",
     "text": [
      "input_variables=['context', 'question'] messages=[HumanMessagePromptTemplate(prompt=PromptTemplate(input_variables=['context', 'question'], template='This is an example briefing: {context}.\\n\\n {question}.'))]\n",
      "THIS INDENTURE, made this ______ day of ________, 20______, between APPLE INC., a corporation organized and existing under the laws of the State of California (hereinafter called the \"Company\"), and _________________, a ___________ corporation (hereinafter called the \"Trustee\"). \n",
      "\n",
      "WITNESSETH:\n",
      "\n",
      "WHEREAS, the Company has duly authorized the creation of an issue of its 1.250% Note due 2030 (hereinafter called the \"Notes\");\n",
      "\n",
      "AND WHEREAS, to provide for the authentication and delivery of the Notes, the Company has duly authorized the execution and delivery of this Indenture;\n",
      "\n",
      "AND WHEREAS, all things necessary to make the Notes, when executed by the Company and authenticated and delivered hereunder, the valid obligations of the Company, and to make this Indenture a valid agreement of the Company, in accordance with their and its terms, have been done.\n",
      "\n",
      "NOW, THEREFORE, THIS INDENTURE WITNESSETH:\n",
      "\n",
      "For and in consideration of the premises and the purchase of the Notes by the Holders thereof, it is mutually covenanted and agreed, for the equal and proportionate benefit of all Holders of the Notes, as follows:\n",
      "\n",
      "ARTICLE I\n",
      "DEFINITIONS AND INCORPORATION BY REFERENCE\n",
      "\n",
      "SECTION 1.01. Definitions.\n",
      "\n",
      "(a) \"Company\" means Apple Inc., a corporation organized and existing under the laws of the State of California.\n",
      "\n",
      "(b) \"Trustee\" means ________________, a ___________ corporation, and its successors in the trust hereunder.\n",
      "\n",
      "ARTICLE II\n",
      "THE NOTES\n",
      "\n",
      "SECTION 2.01. Title and Terms.\n",
      "\n",
      "The aggregate principal amount of Notes that may be authenticated and delivered under this Indenture is unlimited.\n",
      "\n",
      "ARTICLE III\n",
      "REDEMPTION\n",
      "\n",
      "The Notes may be redeemed in whole at any time or in part from time to time, at the option of the Company, on any Business Day.\n",
      "\n",
      "ARTICLE IV\n",
      "GOVERNING LAW\n",
      "\n",
      "The Indenture and the Notes shall be governed by, and construed in accordance with, the laws of the State of New York.\n",
      "\n",
      "ARTICLE V\n",
      "ASSIGNMENT FORM\n",
      "\n",
      "To assign this Note, fill in the form provided by the Company and submit to the Trustee.\n",
      "\n",
      "IN WITNESS WHEREOF, the parties hereto have caused this Indenture to be duly executed as of the day and year first above written.\n",
      "\n",
      "APPLE INC.,\n",
      "By:_____________________\n",
      "Name:\n",
      "Title:\n",
      "\n",
      "_____________________,\n",
      "As Trustee\n",
      "By:_____________________\n",
      "Name:\n",
      "Title:\n"
     ]
    }
   ],
   "source": [
    "from langchain.chat_models import ChatOpenAI\n",
    "from langchain.chains import RetrievalQA\n",
    "from langchain.chat_models import ChatOpenAI\n",
    "from langchain_core.output_parsers import StrOutputParser\n",
    "from langchain_core.runnables import RunnablePassthrough\n",
    "from langchain import hub\n",
    "from langchain_core.prompts import ChatPromptTemplate\n",
    "\n",
    "llm = ChatOpenAI(model_name=\"gpt-4\", temperature=0.7, max_tokens=2000)\n",
    "retriever = db.as_retriever()\n",
    "# prompt = hub.pull(\"rlm/rag-prompt\")\n",
    "\n",
    "def format_docs(docs):\n",
    "    return \"\\n\\n\".join(doc.page_content for doc in docs)\n",
    "\n",
    "\n",
    "\n",
    "\n",
    "prompt = ChatPromptTemplate.from_template(\n",
    "    \"This is an example briefing: {context}.\\n\\n {question}.\"\n",
    ")\n",
    "\n",
    "print(prompt)\n",
    "\n",
    "# Configure the Rag (Retrieval-Augmented Generation) Chain\n",
    "rag_chain = (\n",
    "    {\"context\": retriever, \"question\": RunnablePassthrough()}\n",
    "    | prompt\n",
    "    | llm\n",
    "    | StrOutputParser()\n",
    ")\n",
    "\n",
    "\n",
    "\n",
    "prompt = f\"\"\n",
    "print(rag_chain.invoke(prompt))\n",
    "\n",
    "\n"
   ]
  },
  {
   "cell_type": "code",
   "execution_count": 33,
   "id": "0443c390-0681-4776-a7b4-57e7e5e91981",
   "metadata": {},
   "outputs": [
    {
     "name": "stdout",
     "output_type": "stream",
     "text": [
      "As a lawyer representing Apple Inc., I am working on a indenture. Make one for me. Use 1000 words.\n",
      "content='**INDENTURE AGREEMENT**\\n\\nTHIS INDENTURE, made this (Insert Date), by and between APPLE INC., a California corporation, hereinafter referred to as \"Company\", with its principal place of business located at One Apple Park Way, Cupertino, CA, USA, and (Insert Second Party\\'s Name), a (Insert Second Party\\'s Location and Type of Entity), hereinafter referred to as \"Trustee\", with its principal place of business located at (Trustee\\'s Address).\\n\\nWITNESSETH:\\n\\nWHEREAS, the Company desires to secure the payment of certain of its obligations by granting to the Trustee a security interest in certain of its assets;\\n\\nNOW, THEREFORE, in consideration of the premises and the mutual covenants herein contained, the parties hereto agree as follows:\\n\\n1. **Definitions and Interpretation:** Any capitalized term used in this Indenture shall, unless otherwise defined herein, have the meaning assigned to it in the Agreement.\\n\\n2. **Grant of Security:** The Company, in order to secure the punctual payment of the Secured Obligations, hereby grants to the Trustee, a first priority continuing security interest in all of the Company\\'s right, title, and interest, in the Collateral.\\n\\n3. **Secured Obligations:** The term \"Secured Obligations\" shall mean all present and future indebtedness, obligations, and liabilities of the Company to the Trustee, whether direct or indirect, absolute or contingent, due or to become due, or now existing or hereafter incurred, which may arise under, out of, or in connection with, the Agreement.\\n\\n4. **Collateral:** The term \"Collateral\" shall mean all of the Company\\'s present and future assets, including, without limitation, its intellectual property rights, equipment, inventory, and receivables.\\n\\n5. **Covenants of the Company:** The Company covenants and agrees with the Trustee that, until all of the Secured Obligations have been fully paid and satisfied, the Company will, among other things, keep the Collateral in good condition, not allow any liens on the Collateral, and defend the Collateral against any claims and demands of all persons at any time claiming the same or any interest therein.\\n\\n6. **Events of Default:** An \"Event of Default\" shall mean any of the events or conditions described in the Agreement.\\n\\n7. **Remedies Upon Default:** Upon the occurrence of any Event of Default and at any time thereafter, the Trustee may exercise any one or more of the remedies described in the Agreement.\\n\\n8. **Amendments and Waivers:** No amendment or waiver of any provision of this Indenture, and no consent to any departure by the Company therefrom, shall be effective unless the same shall be in writing and signed by the Trustee and the Company, and then such waiver or consent shall be effective only in the specific instance and for the specific purpose for which given.\\n\\n9. **Governing Law:** This Indenture shall be governed by and construed in accordance with the laws of the State of California.\\n\\n10. **Entire Agreement:** This Indenture and the Agreement constitute the entire agreement between the Company and the Trustee with respect to the subject matter hereof and thereof, and supersede all prior discussions, negotiations, agreements, and understandings, whether oral or written, between the Company and the Trustee with respect to the subject matter hereof and thereof.\\n\\nIN WITNESS WHEREOF, the Company has caused this Indenture to be duly executed by its officer thereunto duly authorized, and the Trustee has executed this Indenture, all as of the day and year first above written.\\n\\n_________________________\\nAPPLE INC.\\n\\nBy:_____________________\\nName: \\nTitle: \\n\\n_________________________\\nTRUSTEE\\n\\nBy:_____________________\\nName:\\nTitle: \\n\\nThis is a general indenture agreement and may not cover all legal aspects of your situation. You should consult with a legal advisor before using it.' response_metadata={'token_usage': {'completion_tokens': 823, 'prompt_tokens': 33, 'total_tokens': 856}, 'model_name': 'gpt-4', 'system_fingerprint': None, 'finish_reason': 'stop', 'logprobs': None} id='run-3dee7049-9c21-46a6-b8ff-55ec8e3a9ff2-0'\n"
     ]
    }
   ],
   "source": [
    "\n",
    "print(prompt)\n",
    "response = llm.invoke(prompt)\n",
    "print(response)"
   ]
  },
  {
   "cell_type": "code",
   "execution_count": 36,
   "id": "483ea56d-0aff-4fcf-bc41-4b73278de08d",
   "metadata": {},
   "outputs": [
    {
     "name": "stdout",
     "output_type": "stream",
     "text": [
      "**INDENTURE AGREEMENT**\n",
      "\n",
      "THIS INDENTURE, made this (Insert Date), by and between APPLE INC., a California corporation, hereinafter referred to as \"Company\", with its principal place of business located at One Apple Park Way, Cupertino, CA, USA, and (Insert Second Party's Name), a (Insert Second Party's Location and Type of Entity), hereinafter referred to as \"Trustee\", with its principal place of business located at (Trustee's Address).\n",
      "\n",
      "WITNESSETH:\n",
      "\n",
      "WHEREAS, the Company desires to secure the payment of certain of its obligations by granting to the Trustee a security interest in certain of its assets;\n",
      "\n",
      "NOW, THEREFORE, in consideration of the premises and the mutual covenants herein contained, the parties hereto agree as follows:\n",
      "\n",
      "1. **Definitions and Interpretation:** Any capitalized term used in this Indenture shall, unless otherwise defined herein, have the meaning assigned to it in the Agreement.\n",
      "\n",
      "2. **Grant of Security:** The Company, in order to secure the punctual payment of the Secured Obligations, hereby grants to the Trustee, a first priority continuing security interest in all of the Company's right, title, and interest, in the Collateral.\n",
      "\n",
      "3. **Secured Obligations:** The term \"Secured Obligations\" shall mean all present and future indebtedness, obligations, and liabilities of the Company to the Trustee, whether direct or indirect, absolute or contingent, due or to become due, or now existing or hereafter incurred, which may arise under, out of, or in connection with, the Agreement.\n",
      "\n",
      "4. **Collateral:** The term \"Collateral\" shall mean all of the Company's present and future assets, including, without limitation, its intellectual property rights, equipment, inventory, and receivables.\n",
      "\n",
      "5. **Covenants of the Company:** The Company covenants and agrees with the Trustee that, until all of the Secured Obligations have been fully paid and satisfied, the Company will, among other things, keep the Collateral in good condition, not allow any liens on the Collateral, and defend the Collateral against any claims and demands of all persons at any time claiming the same or any interest therein.\n",
      "\n",
      "6. **Events of Default:** An \"Event of Default\" shall mean any of the events or conditions described in the Agreement.\n",
      "\n",
      "7. **Remedies Upon Default:** Upon the occurrence of any Event of Default and at any time thereafter, the Trustee may exercise any one or more of the remedies described in the Agreement.\n",
      "\n",
      "8. **Amendments and Waivers:** No amendment or waiver of any provision of this Indenture, and no consent to any departure by the Company therefrom, shall be effective unless the same shall be in writing and signed by the Trustee and the Company, and then such waiver or consent shall be effective only in the specific instance and for the specific purpose for which given.\n",
      "\n",
      "9. **Governing Law:** This Indenture shall be governed by and construed in accordance with the laws of the State of California.\n",
      "\n",
      "10. **Entire Agreement:** This Indenture and the Agreement constitute the entire agreement between the Company and the Trustee with respect to the subject matter hereof and thereof, and supersede all prior discussions, negotiations, agreements, and understandings, whether oral or written, between the Company and the Trustee with respect to the subject matter hereof and thereof.\n",
      "\n",
      "IN WITNESS WHEREOF, the Company has caused this Indenture to be duly executed by its officer thereunto duly authorized, and the Trustee has executed this Indenture, all as of the day and year first above written.\n",
      "\n",
      "_________________________\n",
      "APPLE INC.\n",
      "\n",
      "By:_____________________\n",
      "Name: \n",
      "Title: \n",
      "\n",
      "_________________________\n",
      "TRUSTEE\n",
      "\n",
      "By:_____________________\n",
      "Name:\n",
      "Title: \n",
      "\n",
      "This is a general indenture agreement and may not cover all legal aspects of your situation. You should consult with a legal advisor before using it.\n"
     ]
    }
   ],
   "source": [
    "print(response.content)"
   ]
  },
  {
   "cell_type": "code",
   "execution_count": 40,
   "id": "8641adf3-38d7-4b0c-b9b0-05f83d75054c",
   "metadata": {},
   "outputs": [
    {
     "name": "stdout",
     "output_type": "stream",
     "text": [
      "Exhibit 4.1 link not found.\n"
     ]
    }
   ],
   "source": [
    "import requests\n",
    "from bs4 import BeautifulSoup\n",
    "\n",
    "# URL of the SEC filing page\n",
    "url = 'https://www.sec.gov/Archives/edgar/data/320193/000119312519242975/0001193125-19-242975-index.html'\n",
    "\n",
    "# Send a GET request to the URL\n",
    "response = requests.get(url, headers=headers)\n",
    "\n",
    "# Check if the request was successful (status code 200)\n",
    "if response.status_code == 200:\n",
    "    # Parse the HTML content of the page\n",
    "    soup = BeautifulSoup(response.content, 'html.parser')\n",
    "    \n",
    "    # Find all <a> tags containing the text 'Exhibit 4.1'\n",
    "    exhibit_links = soup.find_all('a', string='Exhibit 4.1')\n",
    "\n",
    "    # Check if any links were found\n",
    "    if exhibit_links:\n",
    "        # Get the href attribute of the first link found\n",
    "        exhibit_link = exhibit_links[0]['href']\n",
    "        print(\"Link to Exhibit 4.1:\", exhibit_link)\n",
    "    else:\n",
    "        print(\"Exhibit 4.1 link not found.\")\n",
    "else:\n",
    "    print(\"Error fetching URL:\", response.status_code)\n"
   ]
  },
  {
   "cell_type": "code",
   "execution_count": 41,
   "id": "5e909e0d-1086-43a0-ae03-91370f485f81",
   "metadata": {},
   "outputs": [
    {
     "data": {
      "text/plain": [
       "<!DOCTYPE HTML PUBLIC \"-//W3C//DTD HTML 4.01 Transitional//EN\" \"http://www.w3.org/TR/html4/loose.dtd\">\n",
       "\n",
       "<html xmlns=\"http://www.w3.org/1999/xhtml\">\n",
       "<head>\n",
       "<meta content=\"text/html; charset=utf-8\" http-equiv=\"Content-Type\"/>\n",
       "<meta content=\"Wed, 11 Sep 2019 20:21:21 GMT\" http-equiv=\"Last-Modified\"/>\n",
       "<title>EDGAR Filing Documents for 0001193125-19-242975</title>\n",
       "<link href=\"/include/interactive.css\" rel=\"stylesheet\" type=\"text/css\"/>\n",
       "</head>\n",
       "<body style=\"margin: 0\">\n",
       "<!-- SEC Web Analytics - For information please visit: https://www.sec.gov/privacy.htm#collectedinfo -->\n",
       "<noscript><iframe height=\"0\" src=\"//www.googletagmanager.com/ns.html?id=GTM-TD3BKV\" style=\"display:none;visibility:hidden\" width=\"0\"></iframe></noscript>\n",
       "<script>(function(w,d,s,l,i){w[l]=w[l]||[];w[l].push({'gtm.start':\n",
       "new Date().getTime(),event:'gtm.js'});var f=d.getElementsByTagName(s)[0],\n",
       "j=d.createElement(s),dl=l!='dataLayer'?'&l='+l:'';j.async=true;j.src=\n",
       "'//www.googletagmanager.com/gtm.js?id='+i+dl;f.parentNode.insertBefore(j,f);\n",
       "})(window,document,'script','dataLayer','GTM-TD3BKV');</script>\n",
       "<!-- End SEC Web Analytics -->\n",
       "<noscript><div style=\"color:red; font-weight:bold; text-align:center;\">This page uses Javascript. Your browser either doesn't support Javascript or you have it turned off. To see this page as it is meant to appear please use a Javascript enabled browser.</div></noscript>\n",
       "<!-- BEGIN BANNER -->\n",
       "<div id=\"headerTop\">\n",
       "<div id=\"Nav\"><a href=\"/index.htm\">Home</a> | <a href=\"/cgi-bin/browse-edgar?action=getcurrent\">Latest Filings</a> | <a href=\"javascript:history.back()\">Previous Page</a></div>\n",
       "<div id=\"seal\"><a href=\"/index.htm\"><img alt=\"SEC Seal\" border=\"0\" src=\"/images/sealTop.gif\"/></a></div>\n",
       "<div id=\"secWordGraphic\"><img alt=\"SEC Banner\" src=\"/images/bannerTitle.gif\"/></div>\n",
       "</div>\n",
       "<div id=\"headerBottom\">\n",
       "<div id=\"searchHome\"><a href=\"/edgar/searchedgar/webusers.htm\">Search the Next-Generation EDGAR System</a></div>\n",
       "<div id=\"PageTitle\">Filing Detail</div>\n",
       "</div>\n",
       "<!-- END BANNER -->\n",
       "<!-- BEGIN BREADCRUMBS -->\n",
       "<div id=\"breadCrumbs\">\n",
       "<ul>\n",
       "<li><a href=\"/index.htm\">SEC Home</a> »</li>\n",
       "<li><a href=\"/edgar/searchedgar/webusers.htm\">Search the Next-Generation EDGAR System</a> »</li>\n",
       "<li><a href=\"/edgar/searchedgar/companysearch.html\">Company Search</a> »</li>\n",
       "<li class=\"last\">Current Page</li>\n",
       "</ul>\n",
       "</div>\n",
       "<!-- END BREADCRUMBS -->\n",
       "<div id=\"contentDiv\">\n",
       "<!-- START FILING DIV -->\n",
       "<div id=\"formDiv\">\n",
       "<div id=\"formHeader\">\n",
       "<div id=\"formName\">\n",
       "<strong>Form 8-K</strong> - Current report: \n",
       "      </div>\n",
       "<div id=\"secNum\">\n",
       "<strong><acronym title=\"Securities and Exchange Commission\">SEC</acronym> Accession <acronym title=\"Number\">No.</acronym></strong> 0001193125-19-242975\n",
       "      </div>\n",
       "</div>\n",
       "<div class=\"formContent\">\n",
       "<div class=\"formGrouping\">\n",
       "<div class=\"infoHead\">Filing Date</div>\n",
       "<div class=\"info\">2019-09-11</div>\n",
       "<div class=\"infoHead\">Accepted</div>\n",
       "<div class=\"info\">2019-09-11 16:21:21</div>\n",
       "<div class=\"infoHead\">Documents</div>\n",
       "<div class=\"info\">19</div>\n",
       "</div>\n",
       "<div class=\"formGrouping\">\n",
       "<div class=\"infoHead\">Period of Report</div>\n",
       "<div class=\"info\">2019-09-04</div>\n",
       "</div>\n",
       "<div class=\"formGrouping\">\n",
       "<div class=\"infoHead\">Items</div>\n",
       "<div class=\"info\">Item 8.01: Other Events<br/>Item 9.01: Financial Statements and Exhibits<br/></div>\n",
       "</div>\n",
       "<div style=\"clear:both\"></div>\n",
       "</div>\n",
       "</div>\n",
       "<!-- END FILING DIV -->\n",
       "<!-- START DOCUMENT DIV -->\n",
       "<div style=\"margin: 10px 0px 10px 0px; border: solid 1px #3F509D; background-color: #F5F5EB;\">\n",
       "<div id=\"seriesDiv\" style=\"padding: 4px 0px 4px 0px; font-size: 12px; margin: 0px 2px 0px 5px; width: 100%; overflow:hidden\">\n",
       "<a href=\"/cgi-bin/viewer?action=view&amp;cik=320193&amp;accession_number=0001193125-19-242975&amp;xbrl_type=v\" id=\"interactiveDataBtn\"> Interactive Data</a>\n",
       "</div>\n",
       "</div>\n",
       "<div id=\"formDiv\">\n",
       "<div style=\"padding: 0px 0px 4px 0px; font-size: 12px; margin: 0px 2px 0px 5px; width: 100%; overflow:hidden\">\n",
       "<p>Document Format Files</p>\n",
       "<table class=\"tableFile\" summary=\"Document Format Files\">\n",
       "<tr>\n",
       "<th scope=\"col\" style=\"width: 5%;\"><acronym title=\"Sequence Number\">Seq</acronym></th>\n",
       "<th scope=\"col\" style=\"width: 40%;\">Description</th>\n",
       "<th scope=\"col\" style=\"width: 20%;\">Document</th>\n",
       "<th scope=\"col\" style=\"width: 10%;\">Type</th>\n",
       "<th scope=\"col\">Size</th>\n",
       "</tr>\n",
       "<tr>\n",
       "<td scope=\"row\">1</td>\n",
       "<td scope=\"row\">8-K</td>\n",
       "<td scope=\"row\"><a href=\"/ix?doc=/Archives/edgar/data/320193/000119312519242975/d777124d8k.htm\">d777124d8k.htm</a>   <span style=\"color: green\">iXBRL</span></td>\n",
       "<td scope=\"row\">8-K</td>\n",
       "<td scope=\"row\">54845</td>\n",
       "</tr>\n",
       "<tr class=\"blueRow\">\n",
       "<td scope=\"row\">2</td>\n",
       "<td scope=\"row\">EX-1.1</td>\n",
       "<td scope=\"row\"><a href=\"/Archives/edgar/data/320193/000119312519242975/d777124dex11.htm\">d777124dex11.htm</a></td>\n",
       "<td scope=\"row\">EX-1.1</td>\n",
       "<td scope=\"row\">134152</td>\n",
       "</tr>\n",
       "<tr>\n",
       "<td scope=\"row\">3</td>\n",
       "<td scope=\"row\">EX-4.1</td>\n",
       "<td scope=\"row\"><a href=\"/Archives/edgar/data/320193/000119312519242975/d777124dex41.htm\">d777124dex41.htm</a></td>\n",
       "<td scope=\"row\">EX-4.1</td>\n",
       "<td scope=\"row\">273896</td>\n",
       "</tr>\n",
       "<tr class=\"blueRow\">\n",
       "<td scope=\"row\">4</td>\n",
       "<td scope=\"row\">EX-5.1</td>\n",
       "<td scope=\"row\"><a href=\"/Archives/edgar/data/320193/000119312519242975/d777124dex51.htm\">d777124dex51.htm</a></td>\n",
       "<td scope=\"row\">EX-5.1</td>\n",
       "<td scope=\"row\">18737</td>\n",
       "</tr>\n",
       "<tr>\n",
       "<td scope=\"row\">9</td>\n",
       "<td scope=\"row\">GRAPHIC</td>\n",
       "<td scope=\"row\"><a href=\"/Archives/edgar/data/320193/000119312519242975/g777124g0907020510384.jpg\">g777124g0907020510384.jpg</a></td>\n",
       "<td scope=\"row\">GRAPHIC</td>\n",
       "<td scope=\"row\">1113</td>\n",
       "</tr>\n",
       "<tr class=\"blueRow\">\n",
       "<td scope=\"row\">10</td>\n",
       "<td scope=\"row\">GRAPHIC</td>\n",
       "<td scope=\"row\"><a href=\"/Archives/edgar/data/320193/000119312519242975/g777124snap0003_68.gif\">g777124snap0003_68.gif</a></td>\n",
       "<td scope=\"row\">GRAPHIC</td>\n",
       "<td scope=\"row\">2165</td>\n",
       "</tr>\n",
       "<tr>\n",
       "<td scope=\"row\">11</td>\n",
       "<td scope=\"row\">GRAPHIC</td>\n",
       "<td scope=\"row\"><a href=\"/Archives/edgar/data/320193/000119312519242975/g777124snap0004_69.gif\">g777124snap0004_69.gif</a></td>\n",
       "<td scope=\"row\">GRAPHIC</td>\n",
       "<td scope=\"row\">1473</td>\n",
       "</tr>\n",
       "<tr class=\"blueRow\">\n",
       "<td scope=\"row\"> </td>\n",
       "<td scope=\"row\">Complete submission text file</td>\n",
       "<td scope=\"row\"><a href=\"/Archives/edgar/data/320193/000119312519242975/0001193125-19-242975.txt\">0001193125-19-242975.txt</a></td>\n",
       "<td scope=\"row\"> </td>\n",
       "<td scope=\"row\">777725</td>\n",
       "</tr>\n",
       "</table>\n",
       "</div>\n",
       "</div>\n",
       "<div id=\"formDiv\">\n",
       "<div style=\"padding: 0px 0px 4px 0px; font-size: 12px; margin: 0px 2px 0px 5px; width: 100%; overflow:hidden\">\n",
       "<p>Data Files</p>\n",
       "<table class=\"tableFile\" summary=\"Data Files\">\n",
       "<tr>\n",
       "<th scope=\"col\" style=\"width: 5%;\"><acronym title=\"Sequence Number\">Seq</acronym></th>\n",
       "<th scope=\"col\" style=\"width: 40%;\">Description</th>\n",
       "<th scope=\"col\" style=\"width: 20%;\">Document</th>\n",
       "<th scope=\"col\" style=\"width: 10%;\">Type</th>\n",
       "<th scope=\"col\">Size</th>\n",
       "</tr>\n",
       "<tr>\n",
       "<td scope=\"row\">5</td>\n",
       "<td scope=\"row\">XBRL TAXONOMY EXTENSION SCHEMA</td>\n",
       "<td scope=\"row\"><a href=\"/Archives/edgar/data/320193/000119312519242975/aapl-20190904.xsd\">aapl-20190904.xsd</a></td>\n",
       "<td scope=\"row\">EX-101.SCH</td>\n",
       "<td scope=\"row\">5756</td>\n",
       "</tr>\n",
       "<tr class=\"blueRow\">\n",
       "<td scope=\"row\">6</td>\n",
       "<td scope=\"row\">XBRL TAXONOMY EXTENSION DEFINITION LINKBASE</td>\n",
       "<td scope=\"row\"><a href=\"/Archives/edgar/data/320193/000119312519242975/aapl-20190904_def.xml\">aapl-20190904_def.xml</a></td>\n",
       "<td scope=\"row\">EX-101.DEF</td>\n",
       "<td scope=\"row\">15925</td>\n",
       "</tr>\n",
       "<tr>\n",
       "<td scope=\"row\">7</td>\n",
       "<td scope=\"row\">XBRL TAXONOMY EXTENSION LABEL LINKBASE</td>\n",
       "<td scope=\"row\"><a href=\"/Archives/edgar/data/320193/000119312519242975/aapl-20190904_lab.xml\">aapl-20190904_lab.xml</a></td>\n",
       "<td scope=\"row\">EX-101.LAB</td>\n",
       "<td scope=\"row\">27122</td>\n",
       "</tr>\n",
       "<tr class=\"blueRow\">\n",
       "<td scope=\"row\">8</td>\n",
       "<td scope=\"row\">XBRL TAXONOMY EXTENSION PRESENTATION LINKBASE</td>\n",
       "<td scope=\"row\"><a href=\"/Archives/edgar/data/320193/000119312519242975/aapl-20190904_pre.xml\">aapl-20190904_pre.xml</a></td>\n",
       "<td scope=\"row\">EX-101.PRE</td>\n",
       "<td scope=\"row\">17284</td>\n",
       "</tr>\n",
       "<tr>\n",
       "<td scope=\"row\">19</td>\n",
       "<td scope=\"row\"><b>EXTRACTED</b> XBRL INSTANCE DOCUMENT</td>\n",
       "<td scope=\"row\"><a href=\"/Archives/edgar/data/320193/000119312519242975/d777124d8k_htm.xml\">d777124d8k_htm.xml</a></td>\n",
       "<td scope=\"row\">XML</td>\n",
       "<td scope=\"row\">12682</td>\n",
       "</tr>\n",
       "</table>\n",
       "</div>\n",
       "</div>\n",
       "<!-- END DOCUMENT DIV -->\n",
       "<!-- START FILER DIV -->\n",
       "<div id=\"filerDiv\">\n",
       "<div class=\"mailer\">Mailing Address\n",
       "      <span class=\"mailerAddress\">ONE APPLE PARK WAY</span>\n",
       "<span class=\"mailerAddress\">\n",
       "CUPERTINO CA 95014      </span>\n",
       "</div>\n",
       "<div class=\"mailer\">Business Address\n",
       "      <span class=\"mailerAddress\">ONE APPLE PARK WAY</span>\n",
       "<span class=\"mailerAddress\">\n",
       "CUPERTINO CA 95014      </span>\n",
       "<span class=\"mailerAddress\">(408) 996-1010</span>\n",
       "</div>\n",
       "<div class=\"companyInfo\">\n",
       "<span class=\"companyName\">Apple Inc. (Filer)\n",
       " <acronym title=\"Central Index Key\">CIK</acronym>: <a href=\"/cgi-bin/browse-edgar?CIK=0000320193&amp;action=getcompany\">0000320193 (see all company filings)</a></span>\n",
       "<p class=\"identInfo\"><acronym title=\"Internal Revenue Service Number\">IRS No.</acronym>: <strong>942404110</strong> | State of Incorp.: <strong>CA</strong> | Fiscal Year End: <strong>0930</strong><br/>Type: <strong>8-K</strong> | Act: <strong>34</strong> | File No.: <a href=\"/cgi-bin/browse-edgar?filenum=001-36743&amp;action=getcompany\"><strong>001-36743</strong></a> | Film No.: <strong>191088535</strong><br/><acronym title=\"Standard Industrial Code\">SIC</acronym>: <b><a href=\"/cgi-bin/browse-edgar?action=getcompany&amp;SIC=3571&amp;owner=include\">3571</a></b> Electronic Computers</p>\n",
       "</div>\n",
       "<div class=\"clear\"></div>\n",
       "</div>\n",
       "<!-- END FILER DIV -->\n",
       "</div>\n",
       "</body></html>"
      ]
     },
     "execution_count": 41,
     "metadata": {},
     "output_type": "execute_result"
    }
   ],
   "source": [
    "soup"
   ]
  },
  {
   "cell_type": "code",
   "execution_count": 42,
   "id": "e8627ac5-8dee-4192-a7d3-127a4e5ed51a",
   "metadata": {},
   "outputs": [
    {
     "name": "stdout",
     "output_type": "stream",
     "text": [
      "Collecting sec-edgar-downloader\n",
      "  Downloading sec_edgar_downloader-5.0.2-py3-none-any.whl.metadata (11 kB)\n",
      "Requirement already satisfied: requests in /opt/anaconda3/lib/python3.11/site-packages (from sec-edgar-downloader) (2.31.0)\n",
      "Collecting pyrate-limiter>=3.1.0 (from sec-edgar-downloader)\n",
      "  Downloading pyrate_limiter-3.6.0-py3-none-any.whl.metadata (24 kB)\n",
      "Requirement already satisfied: charset-normalizer<4,>=2 in /opt/anaconda3/lib/python3.11/site-packages (from requests->sec-edgar-downloader) (3.3.2)\n",
      "Requirement already satisfied: idna<4,>=2.5 in /opt/anaconda3/lib/python3.11/site-packages (from requests->sec-edgar-downloader) (3.4)\n",
      "Requirement already satisfied: urllib3<3,>=1.21.1 in /opt/anaconda3/lib/python3.11/site-packages (from requests->sec-edgar-downloader) (2.0.7)\n",
      "Requirement already satisfied: certifi>=2017.4.17 in /opt/anaconda3/lib/python3.11/site-packages (from requests->sec-edgar-downloader) (2024.2.2)\n",
      "Downloading sec_edgar_downloader-5.0.2-py3-none-any.whl (14 kB)\n",
      "Downloading pyrate_limiter-3.6.0-py3-none-any.whl (26 kB)\n",
      "Installing collected packages: pyrate-limiter, sec-edgar-downloader\n",
      "Successfully installed pyrate-limiter-3.6.0 sec-edgar-downloader-5.0.2\n",
      "Note: you may need to restart the kernel to use updated packages.\n"
     ]
    }
   ],
   "source": [
    "pip install sec-edgar-downloader"
   ]
  },
  {
   "cell_type": "code",
   "execution_count": 44,
   "id": "05dc483b-e73d-4b2c-8901-e7f81ed31cd7",
   "metadata": {},
   "outputs": [
    {
     "data": {
      "text/plain": [
       "210"
      ]
     },
     "execution_count": 44,
     "metadata": {},
     "output_type": "execute_result"
    }
   ],
   "source": [
    "from sec_edgar_downloader import Downloader\n",
    "\n",
    "# Download filings to the current working directory\n",
    "dl = Downloader(\"MyCompanyName\", \"my.email@domain.com\", \"/path/to/save/location\")\n",
    "\n",
    "# Get all 10-K filings for Microsoft without the filing details\n",
    "dl.get(\"10-K\", \"MSFT\", download_details=False)\n",
    "\n",
    "# Get the latest supported filings, if available, for Apple\n",
    "for filing_type in dl.supported_filings:\n",
    "    dl.get(filing_type, \"AAPL\", limit=1)\n",
    "\n",
    "# Get the latest supported filings, if available, for a\n",
    "# specified list of tickers and CIKs\n",
    "equity_ids = [\"AAPL\", \"MSFT\", \"0000102909\", \"V\", \"FB\"]\n",
    "for equity_id in equity_ids:\n",
    "    for filing_type in dl.supported_filings:\n",
    "        dl.get(filing_type, equity_id, limit=1)"
   ]
  },
  {
   "cell_type": "code",
   "execution_count": 47,
   "id": "bbc2f892-cc4f-4343-92cc-a993faa0c799",
   "metadata": {},
   "outputs": [
    {
     "ename": "AttributeError",
     "evalue": "'Downloader' object has no attribute 'supported_filings'",
     "output_type": "error",
     "traceback": [
      "\u001b[0;31m---------------------------------------------------------------------------\u001b[0m",
      "\u001b[0;31mAttributeError\u001b[0m                            Traceback (most recent call last)",
      "Cell \u001b[0;32mIn[47], line 1\u001b[0m\n\u001b[0;32m----> 1\u001b[0m dl\u001b[38;5;241m.\u001b[39msupported_filings\n",
      "\u001b[0;31mAttributeError\u001b[0m: 'Downloader' object has no attribute 'supported_filings'"
     ]
    }
   ],
   "source": [
    "dl.supported_filings"
   ]
  },
  {
   "cell_type": "code",
   "execution_count": null,
   "id": "b0d4378e-50e2-4c47-a5df-21ba38647200",
   "metadata": {},
   "outputs": [],
   "source": []
  }
 ],
 "metadata": {
  "kernelspec": {
   "display_name": "Python 3 (ipykernel)",
   "language": "python",
   "name": "python3"
  },
  "language_info": {
   "codemirror_mode": {
    "name": "ipython",
    "version": 3
   },
   "file_extension": ".py",
   "mimetype": "text/x-python",
   "name": "python",
   "nbconvert_exporter": "python",
   "pygments_lexer": "ipython3",
   "version": "3.11.7"
  }
 },
 "nbformat": 4,
 "nbformat_minor": 5
}
