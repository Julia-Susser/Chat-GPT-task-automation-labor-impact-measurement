{
 "cells": [
  {
   "cell_type": "code",
   "execution_count": 69,
   "id": "cdf16e21-b7fd-4fae-a819-f4788dcc0f04",
   "metadata": {},
   "outputs": [],
   "source": [
    "import pandas as pd\n",
    "import re"
   ]
  },
  {
   "cell_type": "code",
   "execution_count": 90,
   "id": "415ef167-abcb-4533-8bd0-4369334520f8",
   "metadata": {},
   "outputs": [
    {
     "name": "stdout",
     "output_type": "stream",
     "text": [
      "\n",
      " PROMPT1 Generate subtasks for: Analyze the probable outcomes of cases, using knowledge of legal precedents.. Respond in concise 100 words in numbered list of max 3.\n",
      "1. Case Research: Review and analyze all case information, determining the facts and context. Understand the specific laws applied to the case and how they have been interpreted in previous similar cases. Look for legal precedents that could potentially influence the outcome of the current case. \n",
      "\n",
      "2. Legal Precedent Application: Apply knowledge of former verdicts, highlighting similarities and differences between present case and past cases. Evaluate how these precedents could shape the verdict of the current case, providing justification for how these could support your arguments.\n",
      "\n",
      "3. Project Potential Outcomes: Based on the application of precedents, predict potential outcomes of the case. Cover both best-case and worst-case scenarios, and prepare strategies for each potential verdict – acquittal, conviction, dismissal, or settlement. Ensure that these are realistic and take into account all possible factors and variables within the case.\n",
      "\n",
      "PROMPT2 Give a list of the subtasks that you can do: 1. Case Research: Review and analyze all case information, determining the facts and context. Understand the specific laws applied to the case and how they have been interpreted in previous similar cases. Look for legal precedents that could potentially influence the outcome of the current case. 2. Legal Precedent Application: Apply knowledge of former verdicts, highlighting similarities and differences between present case and past cases. Evaluate how these precedents could shape the verdict of the current case, providing justification for how these could support your arguments.3. Project Potential Outcomes: Based on the application of precedents, predict potential outcomes of the case. Cover both best-case and worst-case scenarios, and prepare strategies for each potential verdict – acquittal, conviction, dismissal, or settlement. Ensure that these are realistic and take into account all possible factors and variables within the case.. Respond in concise 100 words in numbered list of max 3.\n",
      "1. Begin with case research to comprehend the context of the situation and laws involved, comparing the current case with similar past cases to understand potential legal precedents. \n",
      "2. Apply this knowledge of former verdicts to the current case, creating a parallel of similarities and differences that may shape the outcome, presenting logical reasons to back your arguments. \n",
      "3. Considered from the obtained data, formulate potential outcomes covering acquittal, conviction, dismissal, or settlement, and strategize for all eventualities; ensure these projections take into consideration every possible factor and variable within the case.\n",
      "\n",
      "PROMPT3 Pretend to be a Lawyer that is doing task where I Begin with case research to comprehend the context of the situation and laws involved, comparing the current case with similar past cases to understand potential legal precedents. . Write about what your job would be in 100 words. For example, if I were an economist, I would write  I am an economist. I’m going to write a journal article that attempts to answer an economics research question that has implications for public policy. In order for it to be publishable, it should have sound empirical methods and add to an existing body of literature by providing novel insight. With that context, identify 3 candidates for empirical research questions that have to do with economic issues that I could write a scientific journal article about.\"\n",
      "As a lawyer, I delve into case research to understand the intricacies of each legal issue. By examining specific laws and regulations related to the case, I am able to grasp its context and devise a robust strategy for representation. I also analyze precedents from similar past cases, providing further guidance for the current situation. My work involves synthesizing all this information to construct a compelling argument, protect clients' rights and interests, and ultimately seek a favorable outcome. The objective is to use the law proactively and creatively to resolve disputes or secure justice, always abiding by ethical standards. \n",
      "\n",
      "1. How have past court rulings influenced the interpretation of Fourth Amendment rights in digital privacy cases? \n",
      "2. How have recent changes in employment law impacted gig economy litigation? \n",
      "3. How does the interpretation of intellectual property law evolve with the advancement of technology?\n",
      "\n",
      "\n",
      "\n",
      "PROMPT4 Please perform this for me as As a lawyer, I delve into case research to understand the intricacies of each legal issue. By examining specific laws and regulations related to the case, I am able to grasp its context and devise a robust strategy for representation. I also analyze precedents from similar past cases, providing further guidance for the current situation. My work involves synthesizing all this information to construct a compelling argument, protect clients' rights and interests, and ultimately seek a favorable outcome. The objective is to use the law proactively and creatively to resolve disputes or secure justice, always abiding by ethical standards. \n",
      "\n",
      "1. How have past court rulings influenced the interpretation of Fourth Amendment rights in digital privacy cases? \n",
      "2. How have recent changes in employment law impacted gig economy litigation? \n",
      "3. How does the interpretation of intellectual property law evolve with the advancement of technology?\n",
      "1. Past court rulings have significantly influenced the interpretation of Fourth Amendment rights in digital privacy cases. Notably, the Supreme Court's decision in the landmark case Katz v. United States (1967) established the \"reasonable expectation of privacy\" doctrine. This principle expanded the interpretation of the Fourth Amendment beyond physical intrusion to include communication technologies such as telephones. More recent rulings, such as United States v. Jones (2012) and Carpenter v. United States (2018), have adapted the interpretation of the Fourth Amendment to modern technologies such as GPS tracking and cellular data, respectively. These court rulings illustrate a trend towards greater protection of digital privacy, but the pace of technological change presents ongoing challenges for legal interpretation and application.\n",
      "  \n",
      "2. Recent changes in employment law have had significant impacts on gig economy litigation. For example, the passage of California's Assembly Bill 5 (AB5) radically changed the legal framework by requiring companies to classify their gig workers as employees, rather than independent contractors, unless they meet specific criteria. This has led to a number of lawsuits against companies like Uber and Lyft who depend heavily on gig workers and resist reclassifying them as employees due to the higher costs linked with employee benefits. These changes in law have fueled ongoing litigation and have increased uncertainty for businesses operating within the gig economy.\n",
      "\n",
      "3. The interpretation of intellectual property law has been rapidly evolving in tandem with the advancement of technology. Copyright cases such as A&M Records, Inc. v. Napster, Inc found that file-sharing services infringed on copyright laws, prompting changes in how such services operate. Similarly, advancements in 3D printing technology have raised unique questions about patent infringement. The question of software patentability and Internet business method patents have been a significant topic of discussion and litigation over recent years. These matters exemplify how legal interpretation must adapt to encompass fast-changing technological landscapes and the challenges that come with it.\n"
     ]
    }
   ],
   "source": [
    "import pandas as pd\n",
    "import re\n",
    "\n",
    "class Prompting:\n",
    "    def __init__(self):\n",
    "        excel_file_path = 'prompts.xlsx'\n",
    "        self.prompts = pd.read_excel(excel_file_path)\n",
    "        self.chat = chatGPT()\n",
    "        \n",
    "        self.occupation = \"Lawyer\"\n",
    "        self.gov_tasks = self.getGovTask(self.occupation)\n",
    "        self.chatGPTPrompting(self.gov_tasks)\n",
    "        \n",
    "    def getGovTask(self, occupation):\n",
    "        df = pd.read_csv(\"Task Statements.csv\")\n",
    "        occ_tasks = df.loc[df.Title == occupation + \"s\"]\n",
    "        gov_tasks = list(occ_tasks.Task)\n",
    "        return gov_tasks\n",
    "        \n",
    "    def splitResponse(self, response):\n",
    "        return re.sub(r'\\d+\\.\\s', '', response).split(\"\\n\")\n",
    "\n",
    "    def getPrompt(self, i, *vars):\n",
    "        prompt = self.prompts.Prompt[i - 1]\n",
    "        prompt = re.sub(r'\\{.*?\\}', '{}', prompt)\n",
    "        prompt = prompt.format(*vars)\n",
    "        return prompt\n",
    "\n",
    "    def chatGPTPrompting(self, occupation,tasks):\n",
    "        with open(\"../output/occupation.txt\", \"a\") as file:\n",
    "            for task in tasks[:1]:\n",
    "                prompt1 = self.getPrompt(1, task) \n",
    "                response1 = self.chat.ask(prompt1)\n",
    "                file.write(f\"\\n\\n\\nPROMPT1 {prompt1}\\n{response1}\\n\")\n",
    "\n",
    "                prompt2 = self.getPrompt(2, response1.replace(\"\\n\", \"\")) \n",
    "                response2 = self.chat.ask(prompt2)\n",
    "                file.write(f\"\\n\\n\\nPROMPT2 {prompt2}\\n{response2}\\n\")\n",
    "\n",
    "                subtasks = self.splitResponse(response2)\n",
    "    \n",
    "                for subtask in subtasks[:1]:\n",
    "                    prompt3 = self.getPrompt(3, occupation, subtask) \n",
    "                    response3 = self.chat.ask(prompt3)\n",
    "                    file.write(f\"\\n\\n\\nPROMPT3 {prompt3}\\n{response3}\\n\")\n",
    "\n",
    "                    prompt4 = self.getPrompt(4, response3) \n",
    "                    response4 = self.chat.ask(prompt4)\n",
    "                    file.write(f\"\\n\\n\\nPROMPT4 {prompt4}\\n{response4}\\n\")\n",
    "\n",
    "\n",
    "\n",
    "\n",
    "\n",
    "x = Prompting()\n"
   ]
  },
  {
   "cell_type": "code",
   "execution_count": 89,
   "id": "150aea1b-b203-4b70-ab83-1a8c50242152",
   "metadata": {},
   "outputs": [
    {
     "name": "stdout",
     "output_type": "stream",
     "text": [
      "Hello! As an artificial intelligence, I don't have feelings, but I'm here and ready to help you. How can I assist you today?\n"
     ]
    }
   ],
   "source": [
    "from dotenv import load_dotenv\n",
    "from os import getenv\n",
    "from openai import OpenAI\n",
    "\n",
    "# Load environment variables from .env file\n",
    "load_dotenv(\"../.env\")\n",
    "\n",
    "class chatGPT():\n",
    "    def __init__(self):\n",
    "        # Get API key from environment variable\n",
    "        my_key = getenv(\"OPENAI_API_KEY\")\n",
    "        if my_key is None:\n",
    "            raise ValueError(\"API key not found in .env file\")\n",
    "        \n",
    "        # Initialize OpenAI client with API key\n",
    "        self.client = OpenAI(api_key=my_key)\n",
    "\n",
    "    def ask(self, q):\n",
    "        stream = self.client.chat.completions.create(\n",
    "            model=\"gpt-4\",\n",
    "            messages=[{\"role\": \"user\", \"content\": q}],\n",
    "            stream=True,\n",
    "        )\n",
    "        response = \"\"\n",
    "        for chunk in stream:\n",
    "            if chunk.choices[0].delta.content is not None:\n",
    "                response += chunk.choices[0].delta.content\n",
    "\n",
    "        self.response = response\n",
    "        return response\n",
    "\n",
    "# Example usage\n",
    "chatbot = chatGPT()\n",
    "response = chatbot.ask(\"Hello, how are you?\")\n",
    "print(response)\n"
   ]
  },
  {
   "cell_type": "code",
   "execution_count": null,
   "id": "25c3b258-cfed-4a30-982f-b1bb9e549c99",
   "metadata": {},
   "outputs": [],
   "source": []
  }
 ],
 "metadata": {
  "kernelspec": {
   "display_name": "Python 3 (ipykernel)",
   "language": "python",
   "name": "python3"
  },
  "language_info": {
   "codemirror_mode": {
    "name": "ipython",
    "version": 3
   },
   "file_extension": ".py",
   "mimetype": "text/x-python",
   "name": "python",
   "nbconvert_exporter": "python",
   "pygments_lexer": "ipython3",
   "version": "3.11.7"
  }
 },
 "nbformat": 4,
 "nbformat_minor": 5
}
