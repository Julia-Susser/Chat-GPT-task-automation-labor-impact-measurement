{
 "cells": [
  {
   "cell_type": "code",
   "execution_count": 69,
   "id": "cdf16e21-b7fd-4fae-a819-f4788dcc0f04",
   "metadata": {},
   "outputs": [],
   "source": [
    "import pandas as pd\n",
    "import re"
   ]
  },
  {
   "cell_type": "code",
   "execution_count": 106,
   "id": "415ef167-abcb-4533-8bd0-4369334520f8",
   "metadata": {},
   "outputs": [],
   "source": [
    "import pandas as pd\n",
    "import re\n",
    "\n",
    "class Prompting:\n",
    "    def __init__(self):\n",
    "        excel_file_path = 'prompts.xlsx'\n",
    "        self.prompts = pd.read_excel(excel_file_path)\n",
    "        self.chat = chatGPT()\n",
    "        \n",
    "        self.occupation = \"Advertising and Promotions Manager\" #\"Lawyer\"\n",
    "        self.gov_tasks = self.getGovTask(self.occupation)\n",
    "        self.chatGPTPrompting(self.occupation,self.gov_tasks)\n",
    "        \n",
    "    def getGovTask(self, occupation):\n",
    "        df = pd.read_csv(\"./input/Task Statements.csv\")\n",
    "        occ_tasks = df.loc[df.Title == occupation + \"s\"]\n",
    "        gov_tasks = list(occ_tasks.Task)\n",
    "        return gov_tasks\n",
    "        \n",
    "    def splitResponse(self, response):\n",
    "        return re.sub(r'\\d+\\.\\s', '', response).split(\"\\n\")\n",
    "\n",
    "    def getPrompt(self, i, *vars):\n",
    "        prompt = self.prompts.Prompt[i - 1]\n",
    "        prompt = re.sub(r'\\{.*?\\}', '{}', prompt)\n",
    "        prompt = prompt.format(*vars)\n",
    "        return prompt\n",
    "\n",
    "    def chatGPTPrompting(self, occupation,tasks):\n",
    "        with open(f\"./output/{occupation}.txt\", \"w\") as file:\n",
    "            for task in tasks[:1]:\n",
    "                prompt1 = self.getPrompt(1,occupation, task) \n",
    "                response1 = self.chat.ask(prompt1)\n",
    "                file.write(f\"PROMPT1: \\n{prompt1} \\n\\nRESPONSE1: \\n{response1}\\n\")\n",
    "\n",
    "                prompt2 = self.getPrompt(2, response1.replace(\"\\n\", \"\")) \n",
    "                response2 = self.chat.ask(prompt2)\n",
    "                file.write(f\"\\n\\n\\nPROMPT2: \\n{prompt2} \\n\\nRESPONSE2: \\n{response2}\\n\")\n",
    "\n",
    "                subtasks = self.splitResponse(response2)\n",
    "    \n",
    "                for subtask in subtasks[:1]:\n",
    "                    prompt3 = self.getPrompt(3, occupation, subtask) \n",
    "                    response3 = self.chat.ask(prompt3)\n",
    "                    file.write(f\"\\n\\n\\nPROMPT3: \\n{prompt3} \\n\\nRESPONSE3: \\n{response3}\\n\")\n",
    "\n",
    "                    prompt4 = self.getPrompt(4, occupation,response3.lower()) \n",
    "                    response4 = self.chat.ask(prompt4)\n",
    "                    file.write(f\"\\n\\n\\nPROMPT4: \\n{prompt4} \\n\\nRESPONSE4: \\n{response4}\\n\")\n",
    "\n",
    "                    prompt5 = self.getPrompt(5, response4.lower()) \n",
    "                    response5 = self.chat.ask(prompt5)\n",
    "                    file.write(f\"\\n\\n\\nPROMPT5: \\n{prompt5} \\n\\nRESPONSE5: \\n{response5}\\n\")\n",
    "\n",
    "\n",
    "\n",
    "\n",
    "\n",
    "x = Prompting()\n"
   ]
  },
  {
   "cell_type": "code",
   "execution_count": 89,
   "id": "150aea1b-b203-4b70-ab83-1a8c50242152",
   "metadata": {},
   "outputs": [
    {
     "name": "stdout",
     "output_type": "stream",
     "text": [
      "Hello! As an artificial intelligence, I don't have feelings, but I'm here and ready to help you. How can I assist you today?\n"
     ]
    }
   ],
   "source": [
    "from dotenv import load_dotenv\n",
    "from os import getenv\n",
    "from openai import OpenAI\n",
    "\n",
    "# Load environment variables from .env file\n",
    "load_dotenv(\"../.env\")\n",
    "\n",
    "class chatGPT():\n",
    "    def __init__(self):\n",
    "        # Get API key from environment variable\n",
    "        my_key = getenv(\"OPENAI_API_KEY\")\n",
    "        if my_key is None:\n",
    "            raise ValueError(\"API key not found in .env file\")\n",
    "        \n",
    "        # Initialize OpenAI client with API key\n",
    "        self.client = OpenAI(api_key=my_key)\n",
    "\n",
    "    def ask(self, q):\n",
    "        stream = self.client.chat.completions.create(\n",
    "            model=\"gpt-4\",\n",
    "            messages=[{\"role\": \"user\", \"content\": q}],\n",
    "            stream=True,\n",
    "        )\n",
    "        response = \"\"\n",
    "        for chunk in stream:\n",
    "            if chunk.choices[0].delta.content is not None:\n",
    "                response += chunk.choices[0].delta.content\n",
    "\n",
    "        self.response = response\n",
    "        return response\n",
    "\n",
    "# Example usage\n",
    "chatbot = chatGPT()\n",
    "response = chatbot.ask(\"Hello, how are you?\")\n",
    "print(response)\n"
   ]
  },
  {
   "cell_type": "code",
   "execution_count": null,
   "id": "25c3b258-cfed-4a30-982f-b1bb9e549c99",
   "metadata": {},
   "outputs": [],
   "source": []
  }
 ],
 "metadata": {
  "kernelspec": {
   "display_name": "Python 3 (ipykernel)",
   "language": "python",
   "name": "python3"
  },
  "language_info": {
   "codemirror_mode": {
    "name": "ipython",
    "version": 3
   },
   "file_extension": ".py",
   "mimetype": "text/x-python",
   "name": "python",
   "nbconvert_exporter": "python",
   "pygments_lexer": "ipython3",
   "version": "3.11.7"
  }
 },
 "nbformat": 4,
 "nbformat_minor": 5
}
